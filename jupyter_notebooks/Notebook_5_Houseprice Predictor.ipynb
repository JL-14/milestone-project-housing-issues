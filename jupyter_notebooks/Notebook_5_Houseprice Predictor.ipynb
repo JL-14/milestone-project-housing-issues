{
  "cells": [
    {
      "cell_type": "markdown",
      "metadata": {
        "id": "0aStgWSO0E0E"
      },
      "source": [
        "# **5. House Price Predictor Notebook**"
      ]
    },
    {
      "cell_type": "markdown",
      "metadata": {
        "id": "1eLEkw5O0ECa"
      },
      "source": [
        "## Objectives\n",
        "\n",
        "* Develop a working model for the House Price Predictor based on the cleaned and feature engineered dataset\n",
        "\n",
        "## Inputs\n",
        "\n",
        "* The cleaned TrainSetCleaned, tested with TestSetClean. Path: /workspace/milestone-project-housing-issues/outputs/datasets/cleaned/TrainSetCleaned.csv\n",
        "\n",
        "## Outputs\n",
        "\n",
        "* A working model for the House Price predictor\n",
        "\n",
        "## Additional Comments\n",
        "\n",
        "* As per the business case, the required performance for the model is an R2 value of at least 0.75 for both train and test set\n"
      ]
    },
    {
      "cell_type": "markdown",
      "metadata": {
        "id": "9uWZXH9LwoQg"
      },
      "source": [
        "---"
      ]
    },
    {
      "cell_type": "markdown",
      "metadata": {
        "id": "cqP-UeN-z3i2"
      },
      "source": [
        "# Change working directory"
      ]
    },
    {
      "cell_type": "markdown",
      "metadata": {
        "id": "aOGIGS-uz3i2"
      },
      "source": [
        "We need to change the working directory from its current folder to its parent folder\n",
        "* We access the current directory with os.getcwd()"
      ]
    },
    {
      "cell_type": "code",
      "execution_count": 1,
      "metadata": {
        "id": "wZfF_j-Bz3i4",
        "outputId": "66943449-1436-4c3d-85c7-b85f9f78349b"
      },
      "outputs": [
        {
          "name": "stdout",
          "output_type": "stream",
          "text": [
            "Current Directory: /workspace/milestone-project-housing-issues/jupyter_notebooks\n",
            "New Current Directory: /workspace/milestone-project-housing-issues\n"
          ]
        }
      ],
      "source": [
        "import os\n",
        "\n",
        "# Get the current directory\n",
        "current_dir = os.getcwd()\n",
        "print(\"Current Directory:\", current_dir)\n",
        "\n",
        "# Change the directory to the new path\n",
        "os.chdir('/workspace/milestone-project-housing-issues')\n",
        "\n",
        "# Get the updated current directory\n",
        "current_dir = os.getcwd()\n",
        "print(\"New Current Directory:\", current_dir)"
      ]
    },
    {
      "cell_type": "code",
      "execution_count": 3,
      "metadata": {},
      "outputs": [
        {
          "data": {
            "text/html": [
              "<div>\n",
              "<style scoped>\n",
              "    .dataframe tbody tr th:only-of-type {\n",
              "        vertical-align: middle;\n",
              "    }\n",
              "\n",
              "    .dataframe tbody tr th {\n",
              "        vertical-align: top;\n",
              "    }\n",
              "\n",
              "    .dataframe thead th {\n",
              "        text-align: right;\n",
              "    }\n",
              "</style>\n",
              "<table border=\"1\" class=\"dataframe\">\n",
              "  <thead>\n",
              "    <tr style=\"text-align: right;\">\n",
              "      <th></th>\n",
              "      <th>BedroomAbvGr</th>\n",
              "      <th>BsmtExposure</th>\n",
              "      <th>BsmtFinType1</th>\n",
              "      <th>GarageFinish</th>\n",
              "      <th>GrLivArea</th>\n",
              "      <th>KitchenQual</th>\n",
              "      <th>LotArea</th>\n",
              "      <th>LotFrontage</th>\n",
              "      <th>OverallCond</th>\n",
              "      <th>OverallQual</th>\n",
              "      <th>TotalBsmtSF</th>\n",
              "      <th>SalePrice</th>\n",
              "      <th>Has2ndFloor</th>\n",
              "      <th>HasMasVnr</th>\n",
              "      <th>HasOpenPorch</th>\n",
              "      <th>HasGarage</th>\n",
              "      <th>ModsMade</th>\n",
              "      <th>SalePriceBand</th>\n",
              "    </tr>\n",
              "  </thead>\n",
              "  <tbody>\n",
              "    <tr>\n",
              "      <th>0</th>\n",
              "      <td>3.0</td>\n",
              "      <td>0</td>\n",
              "      <td>0</td>\n",
              "      <td>0</td>\n",
              "      <td>42.755117</td>\n",
              "      <td>0</td>\n",
              "      <td>11694.0</td>\n",
              "      <td>90.0</td>\n",
              "      <td>0</td>\n",
              "      <td>0</td>\n",
              "      <td>1822.0</td>\n",
              "      <td>314813</td>\n",
              "      <td>0</td>\n",
              "      <td>0</td>\n",
              "      <td>0</td>\n",
              "      <td>0</td>\n",
              "      <td>0</td>\n",
              "      <td>7</td>\n",
              "    </tr>\n",
              "    <tr>\n",
              "      <th>1</th>\n",
              "      <td>2.0</td>\n",
              "      <td>1</td>\n",
              "      <td>1</td>\n",
              "      <td>1</td>\n",
              "      <td>29.899833</td>\n",
              "      <td>1</td>\n",
              "      <td>6600.0</td>\n",
              "      <td>60.0</td>\n",
              "      <td>0</td>\n",
              "      <td>1</td>\n",
              "      <td>894.0</td>\n",
              "      <td>109500</td>\n",
              "      <td>0</td>\n",
              "      <td>1</td>\n",
              "      <td>1</td>\n",
              "      <td>0</td>\n",
              "      <td>0</td>\n",
              "      <td>2</td>\n",
              "    </tr>\n",
              "    <tr>\n",
              "      <th>2</th>\n",
              "      <td>2.0</td>\n",
              "      <td>1</td>\n",
              "      <td>2</td>\n",
              "      <td>0</td>\n",
              "      <td>31.048349</td>\n",
              "      <td>1</td>\n",
              "      <td>13360.0</td>\n",
              "      <td>80.0</td>\n",
              "      <td>1</td>\n",
              "      <td>1</td>\n",
              "      <td>876.0</td>\n",
              "      <td>163500</td>\n",
              "      <td>0</td>\n",
              "      <td>1</td>\n",
              "      <td>1</td>\n",
              "      <td>0</td>\n",
              "      <td>1</td>\n",
              "      <td>3</td>\n",
              "    </tr>\n",
              "    <tr>\n",
              "      <th>3</th>\n",
              "      <td>3.0</td>\n",
              "      <td>1</td>\n",
              "      <td>3</td>\n",
              "      <td>1</td>\n",
              "      <td>41.097445</td>\n",
              "      <td>0</td>\n",
              "      <td>13265.0</td>\n",
              "      <td>59.0</td>\n",
              "      <td>0</td>\n",
              "      <td>2</td>\n",
              "      <td>1568.0</td>\n",
              "      <td>271000</td>\n",
              "      <td>0</td>\n",
              "      <td>0</td>\n",
              "      <td>0</td>\n",
              "      <td>0</td>\n",
              "      <td>0</td>\n",
              "      <td>6</td>\n",
              "    </tr>\n",
              "    <tr>\n",
              "      <th>4</th>\n",
              "      <td>3.0</td>\n",
              "      <td>1</td>\n",
              "      <td>1</td>\n",
              "      <td>1</td>\n",
              "      <td>39.255573</td>\n",
              "      <td>0</td>\n",
              "      <td>13704.0</td>\n",
              "      <td>111.5</td>\n",
              "      <td>0</td>\n",
              "      <td>3</td>\n",
              "      <td>1541.0</td>\n",
              "      <td>205000</td>\n",
              "      <td>0</td>\n",
              "      <td>0</td>\n",
              "      <td>0</td>\n",
              "      <td>0</td>\n",
              "      <td>1</td>\n",
              "      <td>4</td>\n",
              "    </tr>\n",
              "  </tbody>\n",
              "</table>\n",
              "</div>"
            ],
            "text/plain": [
              "   BedroomAbvGr  BsmtExposure  BsmtFinType1  GarageFinish  GrLivArea  \\\n",
              "0           3.0             0             0             0  42.755117   \n",
              "1           2.0             1             1             1  29.899833   \n",
              "2           2.0             1             2             0  31.048349   \n",
              "3           3.0             1             3             1  41.097445   \n",
              "4           3.0             1             1             1  39.255573   \n",
              "\n",
              "   KitchenQual  LotArea  LotFrontage  OverallCond  OverallQual  TotalBsmtSF  \\\n",
              "0            0  11694.0         90.0            0            0       1822.0   \n",
              "1            1   6600.0         60.0            0            1        894.0   \n",
              "2            1  13360.0         80.0            1            1        876.0   \n",
              "3            0  13265.0         59.0            0            2       1568.0   \n",
              "4            0  13704.0        111.5            0            3       1541.0   \n",
              "\n",
              "   SalePrice  Has2ndFloor  HasMasVnr  HasOpenPorch  HasGarage  ModsMade  \\\n",
              "0     314813            0          0             0          0         0   \n",
              "1     109500            0          1             1          0         0   \n",
              "2     163500            0          1             1          0         1   \n",
              "3     271000            0          0             0          0         0   \n",
              "4     205000            0          0             0          0         1   \n",
              "\n",
              "   SalePriceBand  \n",
              "0              7  \n",
              "1              2  \n",
              "2              3  \n",
              "3              6  \n",
              "4              4  "
            ]
          },
          "execution_count": 3,
          "metadata": {},
          "output_type": "execute_result"
        }
      ],
      "source": [
        "# Loading dataset HousePricesClean from /workspace/milestone-project-housing-issues/outputs/datasets/cleaned/HousePricesClean.csv\n",
        "\n",
        "import pandas as pd\n",
        "df_houseprices_trainmodel = pd.read_csv(f\"/workspace/milestone-project-housing-issues/outputs/datasets/cleaned/TrainSetCleaned.csv\")\n",
        "df_houseprices_trainmodel.head()"
      ]
    },
    {
      "cell_type": "code",
      "execution_count": 4,
      "metadata": {},
      "outputs": [
        {
          "data": {
            "text/html": [
              "<div>\n",
              "<style scoped>\n",
              "    .dataframe tbody tr th:only-of-type {\n",
              "        vertical-align: middle;\n",
              "    }\n",
              "\n",
              "    .dataframe tbody tr th {\n",
              "        vertical-align: top;\n",
              "    }\n",
              "\n",
              "    .dataframe thead th {\n",
              "        text-align: right;\n",
              "    }\n",
              "</style>\n",
              "<table border=\"1\" class=\"dataframe\">\n",
              "  <thead>\n",
              "    <tr style=\"text-align: right;\">\n",
              "      <th></th>\n",
              "      <th>BedroomAbvGr</th>\n",
              "      <th>BsmtExposure</th>\n",
              "      <th>BsmtFinType1</th>\n",
              "      <th>GarageFinish</th>\n",
              "      <th>GrLivArea</th>\n",
              "      <th>KitchenQual</th>\n",
              "      <th>LotArea</th>\n",
              "      <th>LotFrontage</th>\n",
              "      <th>OverallCond</th>\n",
              "      <th>OverallQual</th>\n",
              "      <th>TotalBsmtSF</th>\n",
              "      <th>SalePrice</th>\n",
              "      <th>Has2ndFloor</th>\n",
              "      <th>HasMasVnr</th>\n",
              "      <th>HasOpenPorch</th>\n",
              "      <th>HasGarage</th>\n",
              "      <th>ModsMade</th>\n",
              "      <th>SalePriceBand</th>\n",
              "    </tr>\n",
              "  </thead>\n",
              "  <tbody>\n",
              "    <tr>\n",
              "      <th>count</th>\n",
              "      <td>1168.000000</td>\n",
              "      <td>1168.000000</td>\n",
              "      <td>1168.000000</td>\n",
              "      <td>1168.000000</td>\n",
              "      <td>1168.000000</td>\n",
              "      <td>1168.000000</td>\n",
              "      <td>1168.000000</td>\n",
              "      <td>1168.000000</td>\n",
              "      <td>1168.000000</td>\n",
              "      <td>1168.000000</td>\n",
              "      <td>1168.000000</td>\n",
              "      <td>1168.000000</td>\n",
              "      <td>1168.000000</td>\n",
              "      <td>1168.00000</td>\n",
              "      <td>1168.000000</td>\n",
              "      <td>1168.000000</td>\n",
              "      <td>1168.000000</td>\n",
              "      <td>1168.000000</td>\n",
              "    </tr>\n",
              "    <tr>\n",
              "      <th>mean</th>\n",
              "      <td>2.866438</td>\n",
              "      <td>1.226027</td>\n",
              "      <td>2.687500</td>\n",
              "      <td>0.889555</td>\n",
              "      <td>38.363696</td>\n",
              "      <td>0.726027</td>\n",
              "      <td>9646.455908</td>\n",
              "      <td>68.976027</td>\n",
              "      <td>1.063356</td>\n",
              "      <td>2.777397</td>\n",
              "      <td>1049.327055</td>\n",
              "      <td>180808.898973</td>\n",
              "      <td>0.412671</td>\n",
              "      <td>0.60274</td>\n",
              "      <td>0.446062</td>\n",
              "      <td>0.049658</td>\n",
              "      <td>0.479452</td>\n",
              "      <td>3.560788</td>\n",
              "    </tr>\n",
              "    <tr>\n",
              "      <th>std</th>\n",
              "      <td>0.755536</td>\n",
              "      <td>0.997138</td>\n",
              "      <td>1.654092</td>\n",
              "      <td>0.897847</td>\n",
              "      <td>6.142895</td>\n",
              "      <td>0.705183</td>\n",
              "      <td>3561.534341</td>\n",
              "      <td>19.309832</td>\n",
              "      <td>1.595654</td>\n",
              "      <td>1.550112</td>\n",
              "      <td>386.601452</td>\n",
              "      <td>78499.911304</td>\n",
              "      <td>0.492526</td>\n",
              "      <td>0.48954</td>\n",
              "      <td>0.497295</td>\n",
              "      <td>0.217329</td>\n",
              "      <td>0.499792</td>\n",
              "      <td>2.190516</td>\n",
              "    </tr>\n",
              "    <tr>\n",
              "      <th>min</th>\n",
              "      <td>0.500000</td>\n",
              "      <td>0.000000</td>\n",
              "      <td>0.000000</td>\n",
              "      <td>0.000000</td>\n",
              "      <td>18.275667</td>\n",
              "      <td>0.000000</td>\n",
              "      <td>1571.500000</td>\n",
              "      <td>27.500000</td>\n",
              "      <td>0.000000</td>\n",
              "      <td>0.000000</td>\n",
              "      <td>82.500000</td>\n",
              "      <td>34900.000000</td>\n",
              "      <td>0.000000</td>\n",
              "      <td>0.00000</td>\n",
              "      <td>0.000000</td>\n",
              "      <td>0.000000</td>\n",
              "      <td>0.000000</td>\n",
              "      <td>0.000000</td>\n",
              "    </tr>\n",
              "    <tr>\n",
              "      <th>25%</th>\n",
              "      <td>2.000000</td>\n",
              "      <td>1.000000</td>\n",
              "      <td>1.000000</td>\n",
              "      <td>0.000000</td>\n",
              "      <td>33.749064</td>\n",
              "      <td>0.000000</td>\n",
              "      <td>7589.500000</td>\n",
              "      <td>59.000000</td>\n",
              "      <td>0.000000</td>\n",
              "      <td>1.000000</td>\n",
              "      <td>798.750000</td>\n",
              "      <td>130000.000000</td>\n",
              "      <td>0.000000</td>\n",
              "      <td>0.00000</td>\n",
              "      <td>0.000000</td>\n",
              "      <td>0.000000</td>\n",
              "      <td>0.000000</td>\n",
              "      <td>2.000000</td>\n",
              "    </tr>\n",
              "    <tr>\n",
              "      <th>50%</th>\n",
              "      <td>3.000000</td>\n",
              "      <td>1.000000</td>\n",
              "      <td>3.000000</td>\n",
              "      <td>1.000000</td>\n",
              "      <td>38.360135</td>\n",
              "      <td>1.000000</td>\n",
              "      <td>9512.500000</td>\n",
              "      <td>69.000000</td>\n",
              "      <td>0.000000</td>\n",
              "      <td>3.000000</td>\n",
              "      <td>992.000000</td>\n",
              "      <td>163000.000000</td>\n",
              "      <td>0.000000</td>\n",
              "      <td>1.00000</td>\n",
              "      <td>0.000000</td>\n",
              "      <td>0.000000</td>\n",
              "      <td>0.000000</td>\n",
              "      <td>3.000000</td>\n",
              "    </tr>\n",
              "    <tr>\n",
              "      <th>75%</th>\n",
              "      <td>3.000000</td>\n",
              "      <td>1.000000</td>\n",
              "      <td>3.000000</td>\n",
              "      <td>2.000000</td>\n",
              "      <td>42.290660</td>\n",
              "      <td>1.000000</td>\n",
              "      <td>11601.500000</td>\n",
              "      <td>80.000000</td>\n",
              "      <td>2.000000</td>\n",
              "      <td>4.000000</td>\n",
              "      <td>1276.250000</td>\n",
              "      <td>215000.000000</td>\n",
              "      <td>1.000000</td>\n",
              "      <td>1.00000</td>\n",
              "      <td>1.000000</td>\n",
              "      <td>0.000000</td>\n",
              "      <td>1.000000</td>\n",
              "      <td>5.000000</td>\n",
              "    </tr>\n",
              "    <tr>\n",
              "      <th>max</th>\n",
              "      <td>4.500000</td>\n",
              "      <td>4.000000</td>\n",
              "      <td>6.000000</td>\n",
              "      <td>3.000000</td>\n",
              "      <td>52.561868</td>\n",
              "      <td>3.000000</td>\n",
              "      <td>17619.500000</td>\n",
              "      <td>111.500000</td>\n",
              "      <td>8.000000</td>\n",
              "      <td>9.000000</td>\n",
              "      <td>1992.500000</td>\n",
              "      <td>755000.000000</td>\n",
              "      <td>1.000000</td>\n",
              "      <td>1.00000</td>\n",
              "      <td>1.000000</td>\n",
              "      <td>1.000000</td>\n",
              "      <td>1.000000</td>\n",
              "      <td>19.000000</td>\n",
              "    </tr>\n",
              "  </tbody>\n",
              "</table>\n",
              "</div>"
            ],
            "text/plain": [
              "       BedroomAbvGr  BsmtExposure  BsmtFinType1  GarageFinish    GrLivArea  \\\n",
              "count   1168.000000   1168.000000   1168.000000   1168.000000  1168.000000   \n",
              "mean       2.866438      1.226027      2.687500      0.889555    38.363696   \n",
              "std        0.755536      0.997138      1.654092      0.897847     6.142895   \n",
              "min        0.500000      0.000000      0.000000      0.000000    18.275667   \n",
              "25%        2.000000      1.000000      1.000000      0.000000    33.749064   \n",
              "50%        3.000000      1.000000      3.000000      1.000000    38.360135   \n",
              "75%        3.000000      1.000000      3.000000      2.000000    42.290660   \n",
              "max        4.500000      4.000000      6.000000      3.000000    52.561868   \n",
              "\n",
              "       KitchenQual       LotArea  LotFrontage  OverallCond  OverallQual  \\\n",
              "count  1168.000000   1168.000000  1168.000000  1168.000000  1168.000000   \n",
              "mean      0.726027   9646.455908    68.976027     1.063356     2.777397   \n",
              "std       0.705183   3561.534341    19.309832     1.595654     1.550112   \n",
              "min       0.000000   1571.500000    27.500000     0.000000     0.000000   \n",
              "25%       0.000000   7589.500000    59.000000     0.000000     1.000000   \n",
              "50%       1.000000   9512.500000    69.000000     0.000000     3.000000   \n",
              "75%       1.000000  11601.500000    80.000000     2.000000     4.000000   \n",
              "max       3.000000  17619.500000   111.500000     8.000000     9.000000   \n",
              "\n",
              "       TotalBsmtSF      SalePrice  Has2ndFloor   HasMasVnr  HasOpenPorch  \\\n",
              "count  1168.000000    1168.000000  1168.000000  1168.00000   1168.000000   \n",
              "mean   1049.327055  180808.898973     0.412671     0.60274      0.446062   \n",
              "std     386.601452   78499.911304     0.492526     0.48954      0.497295   \n",
              "min      82.500000   34900.000000     0.000000     0.00000      0.000000   \n",
              "25%     798.750000  130000.000000     0.000000     0.00000      0.000000   \n",
              "50%     992.000000  163000.000000     0.000000     1.00000      0.000000   \n",
              "75%    1276.250000  215000.000000     1.000000     1.00000      1.000000   \n",
              "max    1992.500000  755000.000000     1.000000     1.00000      1.000000   \n",
              "\n",
              "         HasGarage     ModsMade  SalePriceBand  \n",
              "count  1168.000000  1168.000000    1168.000000  \n",
              "mean      0.049658     0.479452       3.560788  \n",
              "std       0.217329     0.499792       2.190516  \n",
              "min       0.000000     0.000000       0.000000  \n",
              "25%       0.000000     0.000000       2.000000  \n",
              "50%       0.000000     0.000000       3.000000  \n",
              "75%       0.000000     1.000000       5.000000  \n",
              "max       1.000000     1.000000      19.000000  "
            ]
          },
          "execution_count": 4,
          "metadata": {},
          "output_type": "execute_result"
        }
      ],
      "source": [
        "# df_houseprices_trainmodel dataset summary stats\n",
        "original_data_for_modelling = df_houseprices_trainmodel.describe()\n",
        "original_data_for_modelling"
      ]
    },
    {
      "cell_type": "code",
      "execution_count": 5,
      "metadata": {},
      "outputs": [
        {
          "name": "stdout",
          "output_type": "stream",
          "text": [
            "<class 'pandas.core.frame.DataFrame'>\n",
            "Index: 8 entries, count to max\n",
            "Data columns (total 18 columns):\n",
            " #   Column         Non-Null Count  Dtype  \n",
            "---  ------         --------------  -----  \n",
            " 0   BedroomAbvGr   8 non-null      float64\n",
            " 1   BsmtExposure   8 non-null      float64\n",
            " 2   BsmtFinType1   8 non-null      float64\n",
            " 3   GarageFinish   8 non-null      float64\n",
            " 4   GrLivArea      8 non-null      float64\n",
            " 5   KitchenQual    8 non-null      float64\n",
            " 6   LotArea        8 non-null      float64\n",
            " 7   LotFrontage    8 non-null      float64\n",
            " 8   OverallCond    8 non-null      float64\n",
            " 9   OverallQual    8 non-null      float64\n",
            " 10  TotalBsmtSF    8 non-null      float64\n",
            " 11  SalePrice      8 non-null      float64\n",
            " 12  Has2ndFloor    8 non-null      float64\n",
            " 13  HasMasVnr      8 non-null      float64\n",
            " 14  HasOpenPorch   8 non-null      float64\n",
            " 15  HasGarage      8 non-null      float64\n",
            " 16  ModsMade       8 non-null      float64\n",
            " 17  SalePriceBand  8 non-null      float64\n",
            "dtypes: float64(18)\n",
            "memory usage: 1.5+ KB\n"
          ]
        }
      ],
      "source": [
        "original_data_for_modelling.info()"
      ]
    },
    {
      "cell_type": "markdown",
      "metadata": {},
      "source": [
        "---"
      ]
    },
    {
      "cell_type": "markdown",
      "metadata": {
        "id": "-mavJ8DibrcQ"
      },
      "source": [
        "# Section 1"
      ]
    },
    {
      "cell_type": "markdown",
      "metadata": {},
      "source": [
        "Section 1 content"
      ]
    },
    {
      "cell_type": "code",
      "execution_count": null,
      "metadata": {},
      "outputs": [],
      "source": []
    },
    {
      "cell_type": "markdown",
      "metadata": {
        "id": "ZY3l0-AxO93d"
      },
      "source": [
        "---"
      ]
    },
    {
      "cell_type": "markdown",
      "metadata": {
        "id": "uFQo3ycuO-v6"
      },
      "source": [
        "# Section 2"
      ]
    },
    {
      "cell_type": "markdown",
      "metadata": {},
      "source": [
        "Section 2 content"
      ]
    },
    {
      "cell_type": "code",
      "execution_count": null,
      "metadata": {},
      "outputs": [],
      "source": []
    },
    {
      "cell_type": "markdown",
      "metadata": {},
      "source": [
        "---"
      ]
    },
    {
      "cell_type": "markdown",
      "metadata": {},
      "source": [
        "NOTE"
      ]
    },
    {
      "cell_type": "markdown",
      "metadata": {},
      "source": [
        "* You may add as many sections as you want, as long as they support your project workflow.\n",
        "* All notebook's cells should be run top-down (you can't create a dynamic wherein a given point you need to go back to a previous cell to execute some task, like go back to a previous cell and refresh a variable content)"
      ]
    },
    {
      "cell_type": "markdown",
      "metadata": {},
      "source": [
        "---"
      ]
    },
    {
      "cell_type": "markdown",
      "metadata": {
        "id": "ltNetd085qHf"
      },
      "source": [
        "# Push files to Repo"
      ]
    },
    {
      "cell_type": "markdown",
      "metadata": {},
      "source": [
        "* If you do not need to push files to Repo, you may replace this section with \"Conclusions and Next Steps\" and state your conclusions and next steps."
      ]
    },
    {
      "cell_type": "code",
      "execution_count": null,
      "metadata": {
        "id": "aKlnIozA4eQO",
        "outputId": "fd09bc1f-adb1-4511-f6ce-492a6af570c0"
      },
      "outputs": [],
      "source": [
        "import os\n",
        "try:\n",
        "  # create here your folder\n",
        "  # os.makedirs(name='')\n",
        "except Exception as e:\n",
        "  print(e)\n"
      ]
    }
  ],
  "metadata": {
    "accelerator": "GPU",
    "colab": {
      "name": "Data Practitioner Jupyter Notebook.ipynb",
      "provenance": [],
      "toc_visible": true
    },
    "interpreter": {
      "hash": "8b8334dab9339717f727a1deaf837b322d7a41c20d15cc86be99a8e69ceec8ce"
    },
    "kernelspec": {
      "display_name": "Python 3.8.12 64-bit ('3.8.12': pyenv)",
      "name": "python3"
    },
    "language_info": {
      "codemirror_mode": {
        "name": "ipython",
        "version": 3
      },
      "file_extension": ".py",
      "mimetype": "text/x-python",
      "name": "python",
      "nbconvert_exporter": "python",
      "pygments_lexer": "ipython3",
      "version": "3.8.18"
    },
    "orig_nbformat": 2
  },
  "nbformat": 4,
  "nbformat_minor": 2
}
